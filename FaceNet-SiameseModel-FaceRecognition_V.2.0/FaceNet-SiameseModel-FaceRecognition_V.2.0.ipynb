{
 "cells": [
  {
   "cell_type": "code",
   "execution_count": 6,
   "metadata": {},
   "outputs": [
    {
     "name": "stdout",
     "output_type": "stream",
     "text": [
      "Collecting facenet-pytorch\n",
      "  Using cached facenet_pytorch-2.6.0-py3-none-any.whl.metadata (12 kB)\n",
      "Requirement already satisfied: numpy<2.0.0,>=1.24.0 in /home/davidalba/anaconda3/lib/python3.11/site-packages (from facenet-pytorch) (1.26.4)\n",
      "Requirement already satisfied: Pillow<10.3.0,>=10.2.0 in /home/davidalba/anaconda3/lib/python3.11/site-packages (from facenet-pytorch) (10.2.0)\n",
      "Requirement already satisfied: requests<3.0.0,>=2.0.0 in /home/davidalba/anaconda3/lib/python3.11/site-packages (from facenet-pytorch) (2.32.3)\n",
      "Collecting torch<2.3.0,>=2.2.0 (from facenet-pytorch)\n",
      "  Using cached torch-2.2.2-cp311-cp311-manylinux1_x86_64.whl.metadata (25 kB)\n",
      "Collecting torchvision<0.18.0,>=0.17.0 (from facenet-pytorch)\n",
      "  Using cached torchvision-0.17.2-cp311-cp311-manylinux1_x86_64.whl.metadata (6.6 kB)\n",
      "Requirement already satisfied: tqdm<5.0.0,>=4.0.0 in /home/davidalba/anaconda3/lib/python3.11/site-packages (from facenet-pytorch) (4.65.0)\n",
      "Requirement already satisfied: charset-normalizer<4,>=2 in /home/davidalba/anaconda3/lib/python3.11/site-packages (from requests<3.0.0,>=2.0.0->facenet-pytorch) (2.0.4)\n",
      "Requirement already satisfied: idna<4,>=2.5 in /home/davidalba/anaconda3/lib/python3.11/site-packages (from requests<3.0.0,>=2.0.0->facenet-pytorch) (3.4)\n",
      "Requirement already satisfied: urllib3<3,>=1.21.1 in /home/davidalba/anaconda3/lib/python3.11/site-packages (from requests<3.0.0,>=2.0.0->facenet-pytorch) (2.0.7)\n",
      "Requirement already satisfied: certifi>=2017.4.17 in /home/davidalba/anaconda3/lib/python3.11/site-packages (from requests<3.0.0,>=2.0.0->facenet-pytorch) (2024.7.4)\n",
      "Requirement already satisfied: filelock in /home/davidalba/anaconda3/lib/python3.11/site-packages (from torch<2.3.0,>=2.2.0->facenet-pytorch) (3.13.1)\n",
      "Requirement already satisfied: typing-extensions>=4.8.0 in /home/davidalba/anaconda3/lib/python3.11/site-packages (from torch<2.3.0,>=2.2.0->facenet-pytorch) (4.9.0)\n",
      "Requirement already satisfied: sympy in /home/davidalba/anaconda3/lib/python3.11/site-packages (from torch<2.3.0,>=2.2.0->facenet-pytorch) (1.12)\n",
      "Requirement already satisfied: networkx in /home/davidalba/anaconda3/lib/python3.11/site-packages (from torch<2.3.0,>=2.2.0->facenet-pytorch) (3.1)\n",
      "Requirement already satisfied: jinja2 in /home/davidalba/anaconda3/lib/python3.11/site-packages (from torch<2.3.0,>=2.2.0->facenet-pytorch) (3.1.3)\n",
      "Requirement already satisfied: fsspec in /home/davidalba/anaconda3/lib/python3.11/site-packages (from torch<2.3.0,>=2.2.0->facenet-pytorch) (2023.10.0)\n",
      "Requirement already satisfied: nvidia-cuda-nvrtc-cu12==12.1.105 in /home/davidalba/anaconda3/lib/python3.11/site-packages (from torch<2.3.0,>=2.2.0->facenet-pytorch) (12.1.105)\n",
      "Requirement already satisfied: nvidia-cuda-runtime-cu12==12.1.105 in /home/davidalba/anaconda3/lib/python3.11/site-packages (from torch<2.3.0,>=2.2.0->facenet-pytorch) (12.1.105)\n",
      "Requirement already satisfied: nvidia-cuda-cupti-cu12==12.1.105 in /home/davidalba/anaconda3/lib/python3.11/site-packages (from torch<2.3.0,>=2.2.0->facenet-pytorch) (12.1.105)\n",
      "Collecting nvidia-cudnn-cu12==8.9.2.26 (from torch<2.3.0,>=2.2.0->facenet-pytorch)\n",
      "  Using cached nvidia_cudnn_cu12-8.9.2.26-py3-none-manylinux1_x86_64.whl.metadata (1.6 kB)\n",
      "Requirement already satisfied: nvidia-cublas-cu12==12.1.3.1 in /home/davidalba/anaconda3/lib/python3.11/site-packages (from torch<2.3.0,>=2.2.0->facenet-pytorch) (12.1.3.1)\n",
      "Requirement already satisfied: nvidia-cufft-cu12==11.0.2.54 in /home/davidalba/anaconda3/lib/python3.11/site-packages (from torch<2.3.0,>=2.2.0->facenet-pytorch) (11.0.2.54)\n",
      "Requirement already satisfied: nvidia-curand-cu12==10.3.2.106 in /home/davidalba/anaconda3/lib/python3.11/site-packages (from torch<2.3.0,>=2.2.0->facenet-pytorch) (10.3.2.106)\n",
      "Requirement already satisfied: nvidia-cusolver-cu12==11.4.5.107 in /home/davidalba/anaconda3/lib/python3.11/site-packages (from torch<2.3.0,>=2.2.0->facenet-pytorch) (11.4.5.107)\n",
      "Requirement already satisfied: nvidia-cusparse-cu12==12.1.0.106 in /home/davidalba/anaconda3/lib/python3.11/site-packages (from torch<2.3.0,>=2.2.0->facenet-pytorch) (12.1.0.106)\n",
      "Collecting nvidia-nccl-cu12==2.19.3 (from torch<2.3.0,>=2.2.0->facenet-pytorch)\n",
      "  Using cached nvidia_nccl_cu12-2.19.3-py3-none-manylinux1_x86_64.whl.metadata (1.8 kB)\n",
      "Requirement already satisfied: nvidia-nvtx-cu12==12.1.105 in /home/davidalba/anaconda3/lib/python3.11/site-packages (from torch<2.3.0,>=2.2.0->facenet-pytorch) (12.1.105)\n",
      "Collecting triton==2.2.0 (from torch<2.3.0,>=2.2.0->facenet-pytorch)\n",
      "  Using cached triton-2.2.0-cp311-cp311-manylinux_2_17_x86_64.manylinux2014_x86_64.whl.metadata (1.4 kB)\n",
      "Requirement already satisfied: nvidia-nvjitlink-cu12 in /home/davidalba/anaconda3/lib/python3.11/site-packages (from nvidia-cusolver-cu12==11.4.5.107->torch<2.3.0,>=2.2.0->facenet-pytorch) (12.6.77)\n",
      "Requirement already satisfied: MarkupSafe>=2.0 in /home/davidalba/anaconda3/lib/python3.11/site-packages (from jinja2->torch<2.3.0,>=2.2.0->facenet-pytorch) (2.1.3)\n",
      "Requirement already satisfied: mpmath>=0.19 in /home/davidalba/anaconda3/lib/python3.11/site-packages (from sympy->torch<2.3.0,>=2.2.0->facenet-pytorch) (1.3.0)\n",
      "Using cached facenet_pytorch-2.6.0-py3-none-any.whl (1.9 MB)\n",
      "Downloading torch-2.2.2-cp311-cp311-manylinux1_x86_64.whl (755.6 MB)\n",
      "\u001b[2K   \u001b[38;2;249;38;114m╸\u001b[0m\u001b[38;5;237m━━━━━━━━━━━━━━━━━━━━━━━━━━━━━━━━━━━━━━━\u001b[0m \u001b[32m10.7/755.6 MB\u001b[0m \u001b[31m401.6 kB/s\u001b[0m eta \u001b[36m0:30:55\u001b[0m^C\n",
      "\u001b[2K   \u001b[38;2;249;38;114m╸\u001b[0m\u001b[38;5;237m━━━━━━━━━━━━━━━━━━━━━━━━━━━━━━━━━━━━━━━\u001b[0m \u001b[32m10.7/755.6 MB\u001b[0m \u001b[31m401.6 kB/s\u001b[0m eta \u001b[36m0:30:55\u001b[0m\n",
      "\u001b[?25h\u001b[31mERROR: Operation cancelled by user\u001b[0m\u001b[31m\n",
      "\u001b[0mRequirement already satisfied: torch in /home/davidalba/anaconda3/lib/python3.11/site-packages (2.4.1)\n",
      "Requirement already satisfied: torchvision in /home/davidalba/anaconda3/lib/python3.11/site-packages (0.19.1)\n",
      "Requirement already satisfied: filelock in /home/davidalba/anaconda3/lib/python3.11/site-packages (from torch) (3.13.1)\n",
      "Requirement already satisfied: typing-extensions>=4.8.0 in /home/davidalba/anaconda3/lib/python3.11/site-packages (from torch) (4.9.0)\n",
      "Requirement already satisfied: sympy in /home/davidalba/anaconda3/lib/python3.11/site-packages (from torch) (1.12)\n",
      "Requirement already satisfied: networkx in /home/davidalba/anaconda3/lib/python3.11/site-packages (from torch) (3.1)\n",
      "Requirement already satisfied: jinja2 in /home/davidalba/anaconda3/lib/python3.11/site-packages (from torch) (3.1.3)\n",
      "Requirement already satisfied: fsspec in /home/davidalba/anaconda3/lib/python3.11/site-packages (from torch) (2023.10.0)\n",
      "Requirement already satisfied: nvidia-cuda-nvrtc-cu12==12.1.105 in /home/davidalba/anaconda3/lib/python3.11/site-packages (from torch) (12.1.105)\n",
      "Requirement already satisfied: nvidia-cuda-runtime-cu12==12.1.105 in /home/davidalba/anaconda3/lib/python3.11/site-packages (from torch) (12.1.105)\n",
      "Requirement already satisfied: nvidia-cuda-cupti-cu12==12.1.105 in /home/davidalba/anaconda3/lib/python3.11/site-packages (from torch) (12.1.105)\n",
      "Requirement already satisfied: nvidia-cudnn-cu12==9.1.0.70 in /home/davidalba/anaconda3/lib/python3.11/site-packages (from torch) (9.1.0.70)\n",
      "Requirement already satisfied: nvidia-cublas-cu12==12.1.3.1 in /home/davidalba/anaconda3/lib/python3.11/site-packages (from torch) (12.1.3.1)\n",
      "Requirement already satisfied: nvidia-cufft-cu12==11.0.2.54 in /home/davidalba/anaconda3/lib/python3.11/site-packages (from torch) (11.0.2.54)\n",
      "Requirement already satisfied: nvidia-curand-cu12==10.3.2.106 in /home/davidalba/anaconda3/lib/python3.11/site-packages (from torch) (10.3.2.106)\n",
      "Requirement already satisfied: nvidia-cusolver-cu12==11.4.5.107 in /home/davidalba/anaconda3/lib/python3.11/site-packages (from torch) (11.4.5.107)\n",
      "Requirement already satisfied: nvidia-cusparse-cu12==12.1.0.106 in /home/davidalba/anaconda3/lib/python3.11/site-packages (from torch) (12.1.0.106)\n",
      "Requirement already satisfied: nvidia-nccl-cu12==2.20.5 in /home/davidalba/anaconda3/lib/python3.11/site-packages (from torch) (2.20.5)\n",
      "Requirement already satisfied: nvidia-nvtx-cu12==12.1.105 in /home/davidalba/anaconda3/lib/python3.11/site-packages (from torch) (12.1.105)\n",
      "Requirement already satisfied: triton==3.0.0 in /home/davidalba/anaconda3/lib/python3.11/site-packages (from torch) (3.0.0)\n",
      "Requirement already satisfied: nvidia-nvjitlink-cu12 in /home/davidalba/anaconda3/lib/python3.11/site-packages (from nvidia-cusolver-cu12==11.4.5.107->torch) (12.6.77)\n",
      "Requirement already satisfied: numpy in /home/davidalba/anaconda3/lib/python3.11/site-packages (from torchvision) (1.26.4)\n",
      "Requirement already satisfied: pillow!=8.3.*,>=5.3.0 in /home/davidalba/anaconda3/lib/python3.11/site-packages (from torchvision) (10.2.0)\n",
      "Requirement already satisfied: MarkupSafe>=2.0 in /home/davidalba/anaconda3/lib/python3.11/site-packages (from jinja2->torch) (2.1.3)\n",
      "Requirement already satisfied: mpmath>=0.19 in /home/davidalba/anaconda3/lib/python3.11/site-packages (from sympy->torch) (1.3.0)\n",
      "Requirement already satisfied: mtcnn in /home/davidalba/anaconda3/lib/python3.11/site-packages (0.1.1)\n",
      "Requirement already satisfied: keras>=2.0.0 in /home/davidalba/anaconda3/lib/python3.11/site-packages (from mtcnn) (3.4.1)\n",
      "Requirement already satisfied: opencv-python>=4.1.0 in /home/davidalba/anaconda3/lib/python3.11/site-packages (from mtcnn) (4.10.0.84)\n",
      "Requirement already satisfied: absl-py in /home/davidalba/anaconda3/lib/python3.11/site-packages (from keras>=2.0.0->mtcnn) (2.1.0)\n",
      "Requirement already satisfied: numpy in /home/davidalba/anaconda3/lib/python3.11/site-packages (from keras>=2.0.0->mtcnn) (1.26.4)\n",
      "Requirement already satisfied: rich in /home/davidalba/anaconda3/lib/python3.11/site-packages (from keras>=2.0.0->mtcnn) (13.3.5)\n",
      "Requirement already satisfied: namex in /home/davidalba/anaconda3/lib/python3.11/site-packages (from keras>=2.0.0->mtcnn) (0.0.8)\n",
      "Requirement already satisfied: h5py in /home/davidalba/anaconda3/lib/python3.11/site-packages (from keras>=2.0.0->mtcnn) (3.11.0)\n",
      "Requirement already satisfied: optree in /home/davidalba/anaconda3/lib/python3.11/site-packages (from keras>=2.0.0->mtcnn) (0.12.1)\n",
      "Requirement already satisfied: ml-dtypes in /home/davidalba/anaconda3/lib/python3.11/site-packages (from keras>=2.0.0->mtcnn) (0.4.0)\n",
      "Requirement already satisfied: packaging in /home/davidalba/anaconda3/lib/python3.11/site-packages (from keras>=2.0.0->mtcnn) (23.1)\n",
      "Requirement already satisfied: typing-extensions>=4.5.0 in /home/davidalba/anaconda3/lib/python3.11/site-packages (from optree->keras>=2.0.0->mtcnn) (4.9.0)\n",
      "Requirement already satisfied: markdown-it-py<3.0.0,>=2.2.0 in /home/davidalba/anaconda3/lib/python3.11/site-packages (from rich->keras>=2.0.0->mtcnn) (2.2.0)\n",
      "Requirement already satisfied: pygments<3.0.0,>=2.13.0 in /home/davidalba/anaconda3/lib/python3.11/site-packages (from rich->keras>=2.0.0->mtcnn) (2.15.1)\n",
      "Requirement already satisfied: mdurl~=0.1 in /home/davidalba/anaconda3/lib/python3.11/site-packages (from markdown-it-py<3.0.0,>=2.2.0->rich->keras>=2.0.0->mtcnn) (0.1.0)\n"
     ]
    }
   ],
   "source": [
    "!pip install facenet-pytorch\n",
    "!pip install torch torchvision\n",
    "!pip install mtcnn"
   ]
  },
  {
   "cell_type": "code",
   "execution_count": 7,
   "metadata": {},
   "outputs": [
    {
     "ename": "ModuleNotFoundError",
     "evalue": "No module named 'facenet_pytorch'",
     "output_type": "error",
     "traceback": [
      "\u001b[0;31m---------------------------------------------------------------------------\u001b[0m",
      "\u001b[0;31mModuleNotFoundError\u001b[0m                       Traceback (most recent call last)",
      "Cell \u001b[0;32mIn[7], line 2\u001b[0m\n\u001b[1;32m      1\u001b[0m \u001b[38;5;28;01mimport\u001b[39;00m \u001b[38;5;21;01mtorch\u001b[39;00m\n\u001b[0;32m----> 2\u001b[0m \u001b[38;5;28;01mfrom\u001b[39;00m \u001b[38;5;21;01mfacenet_pytorch\u001b[39;00m \u001b[38;5;28;01mimport\u001b[39;00m InceptionResnetV1, MTCNN\n\u001b[1;32m      3\u001b[0m \u001b[38;5;28;01mfrom\u001b[39;00m \u001b[38;5;21;01mPIL\u001b[39;00m \u001b[38;5;28;01mimport\u001b[39;00m Image, UnidentifiedImageError\n\u001b[1;32m      4\u001b[0m \u001b[38;5;28;01mimport\u001b[39;00m \u001b[38;5;21;01mcv2\u001b[39;00m\n",
      "\u001b[0;31mModuleNotFoundError\u001b[0m: No module named 'facenet_pytorch'"
     ]
    }
   ],
   "source": [
    "import torch\n",
    "from facenet_pytorch import InceptionResnetV1, MTCNN\n",
    "from PIL import Image, UnidentifiedImageError\n",
    "import cv2\n",
    "\n",
    "# Load the pre-trained FaceNet model\n",
    "model = InceptionResnetV1(pretrained='vggface2').eval()\n",
    "\n",
    "# Initialize MTCNN for face detection\n",
    "mtcnn = MTCNN(image_size=160, margin=0)"
   ]
  },
  {
   "cell_type": "code",
   "execution_count": null,
   "metadata": {},
   "outputs": [],
   "source": [
    "def preprocess_image(image_path):\n",
    "    image = cv2.imread(image_path)\n",
    "    face = mtcnn(image)\n",
    "    if face is None:\n",
    "        raise ValueError(\"No face detected in the image.\")\n",
    "    return face"
   ]
  },
  {
   "cell_type": "code",
   "execution_count": 8,
   "metadata": {},
   "outputs": [],
   "source": [
    "import os\n",
    "database_dir = '../lfw_funneled'\n",
    "\n",
    "# os.listdir(database_dir)"
   ]
  },
  {
   "cell_type": "code",
   "execution_count": null,
   "metadata": {},
   "outputs": [],
   "source": [
    "database = {}\n",
    "\n",
    "for person_name in os.listdir(database_dir):\n",
    "    person_dir = os.path.join(database_dir, person_name)\n",
    "    if os.path.isdir(person_dir):\n",
    "        embeddings = []\n",
    "        for file_name in os.listdir(person_dir):\n",
    "            if file_name.endswith(('jpg', 'jpeg', 'png')):\n",
    "                image_path = os.path.join(person_dir, file_name)\n",
    "                try:\n",
    "                    face = preprocess_image(image_path)\n",
    "                    face = face.unsqueeze(0)  # Add batch dimension\n",
    "                    embedding = model(face).detach()  # Generate embedding\n",
    "                    embeddings.append(embedding)\n",
    "                except ValueError as e:\n",
    "                    print(f\"Skipping {file_name} in {person_name}: {e}\")\n",
    "        if embeddings:\n",
    "            database[person_name] = torch.stack(embeddings).mean(dim=0)\n",
    "\n",
    "print(f\"Database size: {len(database)}\")\n"
   ]
  },
  {
   "cell_type": "code",
   "execution_count": null,
   "metadata": {},
   "outputs": [],
   "source": [
    "def euclidean_distance(embedding1, embedding2):\n",
    "    return torch.dist(embedding1, embedding2).item()\n",
    "\n",
    "def find_closest_match(embedding, database, threshold=1.1):\n",
    "    closest_distance = float('inf')\n",
    "    closest_name = None\n",
    "    for name, db_embedding in database.items():\n",
    "        distance = euclidean_distance(embedding, db_embedding)\n",
    "        if distance < closest_distance:\n",
    "            closest_distance = distance\n",
    "            closest_name = name\n",
    "    if closest_distance < threshold:\n",
    "        return closest_name, closest_distance\n",
    "    else:\n",
    "        return None, closest_distance"
   ]
  },
  {
   "cell_type": "code",
   "execution_count": 3,
   "metadata": {},
   "outputs": [
    {
     "ename": "NameError",
     "evalue": "name 'preprocess_image' is not defined",
     "output_type": "error",
     "traceback": [
      "\u001b[0;31m---------------------------------------------------------------------------\u001b[0m",
      "\u001b[0;31mNameError\u001b[0m                                 Traceback (most recent call last)",
      "Cell \u001b[0;32mIn[3], line 5\u001b[0m\n\u001b[1;32m      2\u001b[0m new_image_path \u001b[38;5;241m=\u001b[39m \u001b[38;5;124m'\u001b[39m\u001b[38;5;124m/kaggle/input/test-set/adam_rich.jpeg\u001b[39m\u001b[38;5;124m'\u001b[39m\n\u001b[1;32m      4\u001b[0m \u001b[38;5;66;03m# Preprocess the new image\u001b[39;00m\n\u001b[0;32m----> 5\u001b[0m new_face \u001b[38;5;241m=\u001b[39m preprocess_image(new_image_path)\n\u001b[1;32m      6\u001b[0m new_face \u001b[38;5;241m=\u001b[39m new_face\u001b[38;5;241m.\u001b[39munsqueeze(\u001b[38;5;241m0\u001b[39m)  \u001b[38;5;66;03m# Add batch dimension\u001b[39;00m\n\u001b[1;32m      7\u001b[0m new_embedding \u001b[38;5;241m=\u001b[39m model(new_face)\u001b[38;5;241m.\u001b[39mdetach()  \u001b[38;5;66;03m# Generate embedding\u001b[39;00m\n",
      "\u001b[0;31mNameError\u001b[0m: name 'preprocess_image' is not defined"
     ]
    }
   ],
   "source": [
    "# Path to the new image to be matched\n",
    "new_image_path = '/kaggle/input/test-set/adam_rich.jpeg'\n",
    "\n",
    "# Preprocess the new image\n",
    "new_face = preprocess_image(new_image_path)\n",
    "new_face = new_face.unsqueeze(0)  # Add batch dimension\n",
    "new_embedding = model(new_face).detach()  # Generate embedding\n",
    "\n",
    "# Find the closest match in the database\n",
    "name, distance = find_closest_match(new_embedding, database)\n",
    "if name:\n",
    "    print(f\"Match found: {name} with distance {distance}\")\n",
    "else:\n",
    "    print(\"No match found within the threshold.\")"
   ]
  }
 ],
 "metadata": {
  "kernelspec": {
   "display_name": "base",
   "language": "python",
   "name": "python3"
  },
  "language_info": {
   "codemirror_mode": {
    "name": "ipython",
    "version": 3
   },
   "file_extension": ".py",
   "mimetype": "text/x-python",
   "name": "python",
   "nbconvert_exporter": "python",
   "pygments_lexer": "ipython3",
   "version": "3.11.7"
  }
 },
 "nbformat": 4,
 "nbformat_minor": 2
}
